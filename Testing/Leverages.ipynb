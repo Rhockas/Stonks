{
 "cells": [
  {
   "cell_type": "markdown",
   "id": "cf178413",
   "metadata": {},
   "source": [
    "# Suitability\n",
    "\n",
    "* High Volatility\n",
    "* Strong Directional momentum\n",
    "* Liquidity\n",
    "* Low event risk"
   ]
  },
  {
   "cell_type": "markdown",
   "id": "219c3bd6",
   "metadata": {},
   "source": [
    "# Key factors and metrics\n",
    "\n",
    "* Pre-market sentiment: if a stock is up pre-market, high change for it being bullish\n",
    "* Trend indicators: Moving averages, momentum indicators, confirming the direction.\n",
    "* Volatility indicators: Avg true range (higher means more daily movement), implied volatility (high usually means big moves or uncertainty)\n",
    "* Volume confirmation: intraday volume should be above avg when the price moves in my direction\n",
    "* News-driven catalysts: Earnings reports, product announcements, macroeconomic news."
   ]
  },
  {
   "cell_type": "markdown",
   "id": "b9e75b8e",
   "metadata": {},
   "source": [
    "# Practical workflow for evaluation\n",
    "* Scan for candidate stocks with >2% pre-market move, high volume, and news.\n",
    "* Charts, look for strong pre-market trends or breakouts on daily charts.\n",
    "* Intraday confirmation: Wait for 30-60 mins to confirm direction.\n",
    "* Entry and Exit levels: example, risk 2% downside for 4-6% upside >= 2:1 ratio."
   ]
  },
  {
   "cell_type": "markdown",
   "id": "5a458e94",
   "metadata": {},
   "source": [
    "# Reducing risk\n",
    "* Never hold overnight: ETPs can gap heavilty the next day\n",
    "* Use hard stop-loss: limit your losses to a fixed % (eg 5-10% of the leveraged ETP Price)\n",
    "* Size small: use only 100-200$\n",
    "* Avoid choppy/sideways stocks: decay will eat into returns."
   ]
  },
  {
   "cell_type": "markdown",
   "id": "a2065555",
   "metadata": {},
   "source": [
    "# Automating evaluation via code\n",
    "\n",
    "* Pull pre-market movers for your watchlist\n",
    "* Calculate % change from previous close, Intraday volatility(ATR), Volume vs avg Volume.\n",
    "* Apply filters: price > 20MA, pre-market >2%, volume > 150% of avg etc.\n",
    "* Signal when a stocck is worth trading on leverage for that day."
   ]
  },
  {
   "cell_type": "markdown",
   "id": "4bb8f12e",
   "metadata": {},
   "source": []
  },
  {
   "cell_type": "code",
   "execution_count": 8,
   "id": "543f8f9a",
   "metadata": {},
   "outputs": [
    {
     "name": "stdout",
     "output_type": "stream",
     "text": [
      "\n",
      "---- Leveraged ETP Candidates ----\n",
      "\n",
      "No signals (market closed or filters not met)\n"
     ]
    }
   ],
   "source": [
    "import yfinance as yf\n",
    "import pandas as pd\n",
    "import numpy as np\n",
    "import datetime as dt\n",
    "from ta.momentum import RSIIndicator\n",
    "import pytz\n",
    "\n",
    "# ----------------------------\n",
    "# CONFIG\n",
    "# ----------------------------\n",
    "TICKERS = [\"AMD\", \"GOOGL\", \"TSLA\", \"NVDA\"]\n",
    "LEVERAGED_ETPS = {\n",
    "    \"AMD\": \"3AMD.L\",\n",
    "    \"GOOGL\": \"3GOO.L\",\n",
    "}\n",
    "PREMARKET_GAP_THRESHOLD = 2.0\n",
    "VOLUME_RATIO_THRESHOLD = 1.5\n",
    "RSI_BUY_LEVEL = 50\n",
    "\n",
    "# Timezone for market open/close checks (New York for US stocks)\n",
    "ny_tz = pytz.timezone(\"America/New_York\")\n",
    "\n",
    "# ----------------------------\n",
    "# FUNCTIONS\n",
    "# ----------------------------\n",
    "\n",
    "def get_premarket_gap(ticker):\n",
    "    stock = yf.Ticker(ticker)\n",
    "    hist = stock.history(period=\"5d\", interval=\"1d\")\n",
    "    if hist.empty:\n",
    "        return None, None\n",
    "\n",
    "    prev_close = hist['Close'].iloc[-1]\n",
    "\n",
    "    intraday_hist = stock.history(period=\"1d\", interval=\"1m\")\n",
    "    if intraday_hist.empty:\n",
    "        return None, None\n",
    "\n",
    "    current_price = intraday_hist['Close'].iloc[-1]\n",
    "    gap_pct = ((current_price - prev_close) / prev_close) * 100\n",
    "    return gap_pct, current_price\n",
    "\n",
    "\n",
    "def get_intraday_signals(ticker):\n",
    "    stock = yf.Ticker(ticker)\n",
    "    hist = stock.history(period=\"5d\", interval=\"5m\")\n",
    "    if hist.empty:\n",
    "        return None, None, None\n",
    "\n",
    "    # Fix timezone mismatch: use UTC for comparison\n",
    "    today_date = dt.datetime.now(tz=pytz.UTC).date()\n",
    "    today = hist.loc[hist.index.date == today_date]\n",
    "\n",
    "    if today.empty:\n",
    "        return None, None, None\n",
    "\n",
    "    avg_vol = hist['Volume'].mean()\n",
    "    vol_ratio = today['Volume'].sum() / avg_vol\n",
    "\n",
    "    rsi = RSIIndicator(today['Close']).rsi().iloc[-1] if len(today) > 14 else None\n",
    "    last_price = today['Close'].iloc[-1]\n",
    "\n",
    "    return vol_ratio, rsi, last_price\n",
    "\n",
    "\n",
    "def evaluate_tickers():\n",
    "    signals = []\n",
    "    for ticker in TICKERS:\n",
    "        gap, current_price = get_premarket_gap(ticker)\n",
    "        vol_ratio, rsi, last_price = get_intraday_signals(ticker)\n",
    "\n",
    "        if gap is None or vol_ratio is None:\n",
    "            continue\n",
    "\n",
    "        signal = {\n",
    "            \"Ticker\": ticker,\n",
    "            \"PreMarketGap%\": round(gap, 2),\n",
    "            \"VolRatio\": round(vol_ratio, 2),\n",
    "            \"RSI\": round(rsi, 2) if rsi else None,\n",
    "            \"LastPrice\": round(last_price, 2) if last_price else None,\n",
    "            \"ETP\": LEVERAGED_ETPS.get(ticker, \"N/A\"),\n",
    "            \"Candidate\": (gap > PREMARKET_GAP_THRESHOLD) and\n",
    "                         (vol_ratio > VOLUME_RATIO_THRESHOLD) and\n",
    "                         (rsi and rsi > RSI_BUY_LEVEL)\n",
    "        }\n",
    "        signals.append(signal)\n",
    "\n",
    "    return pd.DataFrame(signals)\n",
    "\n",
    "# ----------------------------\n",
    "# RUN\n",
    "# ----------------------------\n",
    "df_signals = evaluate_tickers()\n",
    "\n",
    "print(\"\\n---- Leveraged ETP Candidates ----\\n\")\n",
    "print(df_signals if not df_signals.empty else \"No signals (market closed or filters not met)\")\n",
    "\n"
   ]
  }
 ],
 "metadata": {
  "kernelspec": {
   "display_name": "Python 3",
   "language": "python",
   "name": "python3"
  },
  "language_info": {
   "codemirror_mode": {
    "name": "ipython",
    "version": 3
   },
   "file_extension": ".py",
   "mimetype": "text/x-python",
   "name": "python",
   "nbconvert_exporter": "python",
   "pygments_lexer": "ipython3",
   "version": "3.10.0"
  }
 },
 "nbformat": 4,
 "nbformat_minor": 5
}
